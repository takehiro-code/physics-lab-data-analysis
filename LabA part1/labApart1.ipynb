{
 "cells": [
  {
   "cell_type": "code",
   "execution_count": 73,
   "metadata": {},
   "outputs": [],
   "source": [
    "import numpy as np\n",
    "from numpy import random\n",
    "from scipy.stats import norm\n",
    "import matplotlib.pyplot as plt\n",
    "#from scipy.special import factorial\n",
    "from math import factorial\n",
    "\n",
    "%matplotlib inline"
   ]
  },
  {
   "cell_type": "code",
   "execution_count": 74,
   "metadata": {},
   "outputs": [],
   "source": [
    "def myBinom(m, r, p):\n",
    "    return factorial(m) / (factorial(m-r) * factorial(r)) * (1 - p) ** (m - r) * p ** r\n",
    "\n",
    "def doExercise(m, p, printFlag, pdfToSavePath=\"defaultName\"):\n",
    "    P_list = []\n",
    "    rP_list = []\n",
    "    V_list = []\n",
    "\n",
    "    for r in range(m+1):\n",
    "        P = myBinom(m, r, p)\n",
    "        rP = r * myBinom(m, r, p)\n",
    "\n",
    "        #append for sum\n",
    "        P_list.append(P)\n",
    "        rP_list.append(rP)\n",
    "\n",
    "    E = sum(rP_list)\n",
    "\n",
    "    for r in range(m+1):\n",
    "        V = (r - E) ** 2  * myBinom(m, r, p)\n",
    "        V_list.append(V)\n",
    "\n",
    "    # printing\n",
    "    if (printFlag):\n",
    "        for r in range(m+1):\n",
    "            print(\"For r = \", r, \"\\n\")\n",
    "            print(\"P = \", f\"{P_list[r]:.3}\")\n",
    "            print(\"rP = \", f\"{rP_list[r]:.3}\")\n",
    "            print(\"(r-rbar)^2*P = \", f\"{V_list[r]:.3}\", \"\\n\")\n",
    "\n",
    "        print(\"sum: \")\n",
    "        print(f\"{sum(P_list):.3}\")\n",
    "        print(f\"{sum(rP_list):.3}\")\n",
    "        print(f\"{sum(V_list):.3}\")\n",
    "\n",
    "    r_list = np.arange(m+1)\n",
    "    plt.bar(r_list, P_list, ec='k')\n",
    "    plt.xlabel('r (# of events)')\n",
    "    plt.ylabel('P (Probability)')\n",
    "    plt.title(f\"Normalized histogram (m = {m}, p = {p}) - P vs r\")\n",
    "    \n",
    "    if (printFlag):\n",
    "        plt.savefig(pdfToSavePath)    \n"
   ]
  },
  {
   "cell_type": "markdown",
   "metadata": {},
   "source": [
    "## Excercise 1"
   ]
  },
  {
   "cell_type": "code",
   "execution_count": 75,
   "metadata": {},
   "outputs": [
    {
     "name": "stdout",
     "output_type": "stream",
     "text": [
      "For r =  0 \n",
      "\n",
      "P =  0.0625\n",
      "rP =  0.0\n",
      "(r-rbar)^2*P =  0.25 \n",
      "\n",
      "For r =  1 \n",
      "\n",
      "P =  0.25\n",
      "rP =  0.25\n",
      "(r-rbar)^2*P =  0.25 \n",
      "\n",
      "For r =  2 \n",
      "\n",
      "P =  0.375\n",
      "rP =  0.75\n",
      "(r-rbar)^2*P =  0.0 \n",
      "\n",
      "For r =  3 \n",
      "\n",
      "P =  0.25\n",
      "rP =  0.75\n",
      "(r-rbar)^2*P =  0.25 \n",
      "\n",
      "For r =  4 \n",
      "\n",
      "P =  0.0625\n",
      "rP =  0.25\n",
      "(r-rbar)^2*P =  0.25 \n",
      "\n",
      "sum: \n",
      "1.0\n",
      "2.0\n",
      "1.0\n"
     ]
    },
    {
     "data": {
      "image/png": "[encoded data removed]",
      "text/plain": [
       "<Figure size 432x288 with 1 Axes>"
      ]
     },
     "metadata": {
      "needs_background": "light"
     },
     "output_type": "display_data"
    }
   ],
   "source": [
    "doExercise(4,1/2.0, True, \"Excercise_1.pdf\")"
   ]
  },
  {
   "cell_type": "markdown",
   "metadata": {},
   "source": [
    "## Excercise 2"
   ]
  },
  {
   "cell_type": "code",
   "execution_count": 76,
   "metadata": {},
   "outputs": [
    {
     "name": "stdout",
     "output_type": "stream",
     "text": [
      "For r =  0 \n",
      "\n",
      "P =  0.112\n",
      "rP =  0.0\n",
      "(r-rbar)^2*P =  0.449 \n",
      "\n",
      "For r =  1 \n",
      "\n",
      "P =  0.269\n",
      "rP =  0.269\n",
      "(r-rbar)^2*P =  0.269 \n",
      "\n",
      "For r =  2 \n",
      "\n",
      "P =  0.296\n",
      "rP =  0.592\n",
      "(r-rbar)^2*P =  5.84e-32 \n",
      "\n",
      "For r =  3 \n",
      "\n",
      "P =  0.197\n",
      "rP =  0.592\n",
      "(r-rbar)^2*P =  0.197 \n",
      "\n",
      "For r =  4 \n",
      "\n",
      "P =  0.0888\n",
      "rP =  0.355\n",
      "(r-rbar)^2*P =  0.355 \n",
      "\n",
      "For r =  5 \n",
      "\n",
      "P =  0.0284\n",
      "rP =  0.142\n",
      "(r-rbar)^2*P =  0.256 \n",
      "\n",
      "For r =  6 \n",
      "\n",
      "P =  0.00663\n",
      "rP =  0.0398\n",
      "(r-rbar)^2*P =  0.106 \n",
      "\n",
      "For r =  7 \n",
      "\n",
      "P =  0.00114\n",
      "rP =  0.00796\n",
      "(r-rbar)^2*P =  0.0284 \n",
      "\n",
      "For r =  8 \n",
      "\n",
      "P =  0.000142\n",
      "rP =  0.00114\n",
      "(r-rbar)^2*P =  0.00512 \n",
      "\n",
      "For r =  9 \n",
      "\n",
      "P =  1.26e-05\n",
      "rP =  0.000114\n",
      "(r-rbar)^2*P =  0.000619 \n",
      "\n",
      "For r =  10 \n",
      "\n",
      "P =  7.58e-07\n",
      "rP =  7.58e-06\n",
      "(r-rbar)^2*P =  4.85e-05 \n",
      "\n",
      "For r =  11 \n",
      "\n",
      "P =  2.76e-08\n",
      "rP =  3.03e-07\n",
      "(r-rbar)^2*P =  2.23e-06 \n",
      "\n",
      "For r =  12 \n",
      "\n",
      "P =  4.59e-10\n",
      "rP =  5.51e-09\n",
      "(r-rbar)^2*P =  4.59e-08 \n",
      "\n",
      "sum: \n",
      "1.0\n",
      "2.0\n",
      "1.67\n"
     ]
    },
    {
     "data": {
      "image/png": "[encoded data removed]",
      "text/plain": [
       "<Figure size 432x288 with 1 Axes>"
      ]
     },
     "metadata": {
      "needs_background": "light"
     },
     "output_type": "display_data"
    }
   ],
   "source": [
    "doExercise(12, 1/6.0, True, \"Excercise_2.pdf\")"
   ]
  },
  {
   "cell_type": "markdown",
   "metadata": {},
   "source": [
    "## Excercise 3"
   ]
  },
  {
   "cell_type": "code",
   "execution_count": 77,
   "metadata": {
    "scrolled": false
   },
   "outputs": [
    {
     "name": "stdout",
     "output_type": "stream",
     "text": [
      "For r =  0 \n",
      "\n",
      "P =  0.118\n",
      "rP =  0.0\n",
      "(r-rbar)^2*P =  0.472 \n",
      "\n",
      "For r =  1 \n",
      "\n",
      "P =  0.27\n",
      "rP =  0.27\n",
      "(r-rbar)^2*P =  0.27 \n",
      "\n",
      "For r =  2 \n",
      "\n",
      "P =  0.289\n",
      "rP =  0.578\n",
      "(r-rbar)^2*P =  0.0 \n",
      "\n",
      "For r =  3 \n",
      "\n",
      "P =  0.193\n",
      "rP =  0.578\n",
      "(r-rbar)^2*P =  0.193 \n",
      "\n",
      "For r =  4 \n",
      "\n",
      "P =  0.0895\n",
      "rP =  0.358\n",
      "(r-rbar)^2*P =  0.358 \n",
      "\n",
      "For r =  5 \n",
      "\n",
      "P =  0.0307\n",
      "rP =  0.153\n",
      "(r-rbar)^2*P =  0.276 \n",
      "\n",
      "For r =  6 \n",
      "\n",
      "P =  0.00804\n",
      "rP =  0.0482\n",
      "(r-rbar)^2*P =  0.129 \n",
      "\n",
      "For r =  7 \n",
      "\n",
      "P =  0.00164\n",
      "rP =  0.0115\n",
      "(r-rbar)^2*P =  0.041 \n",
      "\n",
      "For r =  8 \n",
      "\n",
      "P =  0.000264\n",
      "rP =  0.00211\n",
      "(r-rbar)^2*P =  0.00949 \n",
      "\n",
      "For r =  9 \n",
      "\n",
      "P =  3.35e-05\n",
      "rP =  0.000301\n",
      "(r-rbar)^2*P =  0.00164 \n",
      "\n",
      "For r =  10 \n",
      "\n",
      "P =  3.35e-06\n",
      "rP =  3.35e-05\n",
      "(r-rbar)^2*P =  0.000214 \n",
      "\n",
      "For r =  11 \n",
      "\n",
      "P =  2.61e-07\n",
      "rP =  2.87e-06\n",
      "(r-rbar)^2*P =  2.11e-05 \n",
      "\n",
      "For r =  12 \n",
      "\n",
      "P =  1.55e-08\n",
      "rP =  1.86e-07\n",
      "(r-rbar)^2*P =  1.55e-06 \n",
      "\n",
      "For r =  13 \n",
      "\n",
      "P =  6.82e-10\n",
      "rP =  8.87e-09\n",
      "(r-rbar)^2*P =  8.26e-08 \n",
      "\n",
      "For r =  14 \n",
      "\n",
      "P =  2.09e-11\n",
      "rP =  2.92e-10\n",
      "(r-rbar)^2*P =  3.01e-09 \n",
      "\n",
      "For r =  15 \n",
      "\n",
      "P =  3.98e-13\n",
      "rP =  5.97e-12\n",
      "(r-rbar)^2*P =  6.72e-11 \n",
      "\n",
      "For r =  16 \n",
      "\n",
      "P =  3.55e-15\n",
      "rP =  5.68e-14\n",
      "(r-rbar)^2*P =  6.96e-13 \n",
      "\n",
      "sum: \n",
      "1.0\n",
      "2.0\n",
      "1.75\n"
     ]
    },
    {
     "data": {
      "image/png": "[encoded data removed]",
      "text/plain": [
       "<Figure size 432x288 with 1 Axes>"
      ]
     },
     "metadata": {
      "needs_background": "light"
     },
     "output_type": "display_data"
    }
   ],
   "source": [
    "doExercise(16, 1/8.0, True, \"Excercise_3.pdf\")"
   ]
  },
  {
   "cell_type": "markdown",
   "metadata": {},
   "source": [
    "## Group Experiment"
   ]
  },
  {
   "cell_type": "code",
   "execution_count": 78,
   "metadata": {},
   "outputs": [
    {
     "name": "stdout",
     "output_type": "stream",
     "text": [
      "mean =  1.5\n",
      "std dev =  0.972\n",
      "mean =  2.4\n",
      "std dev =  0.966\n",
      "mean =  1.4\n",
      "std dev =  1.78\n"
     ]
    }
   ],
   "source": [
    "box1 = [2,0,1,0,2,1,3,2,2,2]\n",
    "box2 = [4,2,1,2,2,4,2,2,2,3]\n",
    "box3 = [3,0,0,0,3,0,2,5,1,0]\n",
    "\n",
    "def computeGroupExcercise(data):\n",
    "    print(\"mean = \", f\"{np.mean(data):.3}\")\n",
    "    print(\"std dev = \", f\"{np.std(data, ddof=1):.3}\")\n",
    "\n",
    "computeGroupExcercise(box1)\n",
    "computeGroupExcercise(box2)\n",
    "computeGroupExcercise(box3)"
   ]
  },
  {
   "cell_type": "code",
   "execution_count": null,
   "metadata": {},
   "outputs": [],
   "source": []
  },
  {
   "cell_type": "markdown",
   "metadata": {},
   "source": [
    "## Analysis"
   ]
  },
  {
   "cell_type": "code",
   "execution_count": 79,
   "metadata": {},
   "outputs": [
    {
     "data": {
      "image/png": "[encoded data removed]",
      "text/plain": [
       "<Figure size 432x288 with 1 Axes>"
      ]
     },
     "metadata": {
      "needs_background": "light"
     },
     "output_type": "display_data"
    }
   ],
   "source": [
    "doExercise(50, 0.5, False)"
   ]
  },
  {
   "cell_type": "code",
   "execution_count": 80,
   "metadata": {},
   "outputs": [
    {
     "data": {
      "image/png": "[encoded data removed]",
      "text/plain": [
       "<Figure size 432x288 with 1 Axes>"
      ]
     },
     "metadata": {
      "needs_background": "light"
     },
     "output_type": "display_data"
    }
   ],
   "source": [
    "doExercise(50, 0.1, False)"
   ]
  },
  {
   "cell_type": "code",
   "execution_count": 81,
   "metadata": {},
   "outputs": [
    {
     "data": {
      "image/png": "[encoded data removed]",
      "text/plain": [
       "<Figure size 432x288 with 1 Axes>"
      ]
     },
     "metadata": {
      "needs_background": "light"
     },
     "output_type": "display_data"
    }
   ],
   "source": [
    "doExercise(50, 0.9, False)"
   ]
  },
  {
   "cell_type": "code",
   "execution_count": 82,
   "metadata": {},
   "outputs": [
    {
     "data": {
      "image/png": "[encoded data removed]",
      "text/plain": [
       "<Figure size 432x288 with 1 Axes>"
      ]
     },
     "metadata": {
      "needs_background": "light"
     },
     "output_type": "display_data"
    }
   ],
   "source": [
    "doExercise(500, 0.1, False)"
   ]
  },
  {
   "cell_type": "code",
   "execution_count": null,
   "metadata": {},
   "outputs": [],
   "source": []
  },
  {
   "cell_type": "code",
   "execution_count": null,
   "metadata": {},
   "outputs": [],
   "source": []
  }
 ],
 "metadata": {
  "kernelspec": {
   "display_name": "Python 3",
   "language": "python",
   "name": "python3"
  },
  "language_info": {
   "codemirror_mode": {
    "name": "ipython",
    "version": 3
   },
   "file_extension": ".py",
   "mimetype": "text/x-python",
   "name": "python",
   "nbconvert_exporter": "python",
   "pygments_lexer": "ipython3",
   "version": "3.7.3"
  }
 },
 "nbformat": 4,
 "nbformat_minor": 2
}
