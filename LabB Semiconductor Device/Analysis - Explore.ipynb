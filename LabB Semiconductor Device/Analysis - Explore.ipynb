{
 "cells": [
  {
   "cell_type": "markdown",
   "metadata": {},
   "source": [
    "## Semiconductor Device Experiment - Part1 Resistor 1kOhm"
   ]
  },
  {
   "cell_type": "markdown",
   "metadata": {},
   "source": [
    "### Load Libraries"
   ]
  },
  {
   "cell_type": "code",
   "execution_count": 58,
   "metadata": {},
   "outputs": [],
   "source": [
    "# For scientific computing\n",
    "import numpy as np\n",
    "from scipy.stats import norm\n",
    "from scipy.stats import poisson\n",
    "from scipy.special import factorial\n",
    "from matplotlib.gridspec import GridSpec\n",
    "\n",
    "# For plotting\n",
    "import matplotlib.pyplot as plt"
   ]
  },
  {
   "cell_type": "markdown",
   "metadata": {},
   "source": [
    "### Read data\n",
    "Read 3 columns of data; VE is power supply voltage, V is measured voltage of resistor, I is measure current through the resistor.\n",
    "Sometimes, reading fails on the different operating system that encodes different scheme (especially PC that has been purchased aborad) so I encode with utf-8 to ensure the system can read our data without failure."
   ]
  },
  {
   "cell_type": "code",
   "execution_count": 59,
   "metadata": {},
   "outputs": [
    {
     "name": "stdout",
     "output_type": "stream",
     "text": [
      "VE = [ 0.    1.    2.    3.    4.    5.    6.    7.    8.    9.   10.   10.06] V\n",
      "V = [-0.1    0.988  1.975  2.96   3.95   4.94   5.94   6.92   7.91   8.89\n",
      "  9.89   9.94 ] V\n",
      "I = [-0.12  1.    2.01  3.01  4.01  5.01  6.03  7.03  8.04  9.05 10.07 10.13] mA\n",
      "\n"
     ]
    }
   ],
   "source": [
    "# you can either enter 1kOhm or 10kOhm\n",
    "chosenR = \"1kOhm\"\n",
    "\n",
    "#global string for labelling\n",
    "labelx = \"current (mA)\"\n",
    "labely = \"voltage (V)\"\n",
    "\n",
    "VE, V, I = np.genfromtxt(f\"data/2020-10-06-{chosenR}Resistor10mALimit.csv\", delimiter=',', \n",
    "                            unpack=True, skip_header=1, encoding='utf_8_sig')\n",
    "\n",
    "print(f\"VE = {VE} V\")\n",
    "print(f\"V = {V} V\")\n",
    "print(f\"I = {I} mA\")\n",
    "print()"
   ]
  },
  {
   "cell_type": "markdown",
   "metadata": {},
   "source": [
    "### Plotting the Raw data and Perform Least Square Fit (Old)\n",
    "Plot both Raw data and Fitted line\n",
    "We used numpy.polyfit that does Linear least-square fitting"
   ]
  },
  {
   "cell_type": "code",
   "execution_count": 60,
   "metadata": {},
   "outputs": [
    {
     "data": {
      "image/png": "[encoded data removed]",
      "text/plain": [
       "<Figure size 432x288 with 1 Axes>"
      ]
     },
     "metadata": {
      "needs_background": "light"
     },
     "output_type": "display_data"
    },
    {
     "name": "stdout",
     "output_type": "stream",
     "text": [
      " m = 1.02, b = -0.0136\n",
      "Resistance from the slope m is R = 0.981 kOhm\n"
     ]
    }
   ],
   "source": [
    "def linearFunc(m ,b, x):\n",
    "    return m * x + b\n",
    "\n",
    "# raw plotting\n",
    "plt.plot(V,I, \"o\", label=\"Measurement\")\n",
    "\n",
    "# fitting\n",
    "m,b = np.polyfit(V, I, 1)\n",
    "VFit = np.linspace(0, np.ceil(np.max(V)), 100)\n",
    "IFit = m * VFit + b\n",
    "plt.plot(VFit, IFit, label=\"Fit\")\n",
    "\n",
    "#configuring\n",
    "plt.title(f'{chosenR}: I vs V Plot m = {m:.3}, b = {b:.3}')\n",
    "plt.xlabel('V(V)')\n",
    "plt.ylabel('I(mA)')\n",
    "plt.grid(which='major', axis='both')\n",
    "plt.legend()\n",
    "plt.show()\n",
    "\n",
    "# best fit paramters and chi-square\n",
    "print(f\" m = {m:.3}, b = {b:.3}\")\n",
    "\n",
    "# in-progress, compute interpolation?\n",
    "chi_square = 0\n",
    "for i in range(I.size):\n",
    "    residual = (I[i] - linearFunc(m, b, V[i]))\n",
    "    chi_square += residual ** 2\n",
    "#print(f\" chi sqaure = {chi_square: .3}\")\n",
    "\n",
    "# obtained resistance\n",
    "R = 1/m\n",
    "print(f\"Resistance from the slope m is R = {R:.3} kOhm\")"
   ]
  },
  {
   "cell_type": "code",
   "execution_count": null,
   "metadata": {},
   "outputs": [],
   "source": []
  },
  {
   "cell_type": "code",
   "execution_count": null,
   "metadata": {},
   "outputs": [],
   "source": []
  }
 ],
 "metadata": {
  "kernelspec": {
   "display_name": "Python 3",
   "language": "python",
   "name": "python3"
  },
  "language_info": {
   "codemirror_mode": {
    "name": "ipython",
    "version": 3
   },
   "file_extension": ".py",
   "mimetype": "text/x-python",
   "name": "python",
   "nbconvert_exporter": "python",
   "pygments_lexer": "ipython3",
   "version": "3.7.3"
  }
 },
 "nbformat": 4,
 "nbformat_minor": 2
}
