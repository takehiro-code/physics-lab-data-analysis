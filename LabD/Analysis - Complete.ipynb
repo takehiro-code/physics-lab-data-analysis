{
 "cells": [
  {
   "cell_type": "markdown",
   "metadata": {},
   "source": [
    "## Measuring g with a Physical Pendulum - Complete\n",
    "### Load Libraries\n",
    "Note that I used python uncertainties package to compute uncertainties instead of manual calculation inputting formula.\n",
    "You would need to do:\n",
    "\n",
    "**pip install uncertainties**\n",
    "\n",
    "#### Note, I am splitting the cells in Complete code as suggested based on Lab C feedback (I got feedback after Optimize analysis), but personally I don't like splitting too many cells as suggested and I feel it is much easier for me to look, code, and divide the section by section instead of each cell that compute each small task.. but I sticked to the suggestion as much as possible."
   ]
  },
  {
   "cell_type": "code",
   "execution_count": 1,
   "metadata": {},
   "outputs": [],
   "source": [
    "# For scientific computing\n",
    "import numpy as np\n",
    "from scipy.stats import norm\n",
    "from scipy.stats import poisson\n",
    "from scipy.special import factorial\n",
    "from matplotlib.gridspec import GridSpec\n",
    "from scipy.optimize import curve_fit\n",
    "from scipy.stats import chi2\n",
    "import scipy.integrate as integrate\n",
    "\n",
    "# For plotting\n",
    "import matplotlib.pyplot as plt\n",
    "\n",
    "from uncertainties import ufloat\n",
    "from uncertainties.umath import *  #e.g. sqrt()\n",
    "from uncertainties import unumpy"
   ]
  },
  {
   "cell_type": "markdown",
   "metadata": {},
   "source": [
    "## 1. Plot of $T$ vs $\\theta_0$ (Photogate & Stopwatch)\n",
    "For this plot, we will investigate the effect of initial angle displacement on the period."
   ]
  },
  {
   "cell_type": "code",
   "execution_count": 2,
   "metadata": {},
   "outputs": [],
   "source": [
    "# --------------------------------------------------------------------------------------------------\n",
    "# Read Data\n",
    "# --------------------------------------------------------------------------------------------------\n",
    "\n",
    "#global constants\n",
    "a = 100  # bar dimension \n",
    "b = 3.8  # bar dimension \n",
    "c = 0.96  # bar dimension \n",
    "g_true = 980.665 # true value of earth grav constant cm/s^2\n",
    "numSmpsPerSec = 1000.0\n",
    "\n",
    "#uncertainties \n",
    "alpha_a = 0.05 # tape measure precision\n",
    "alpha_b = 0.05  # ruler precision\n",
    "alpha_c = 0.005  # vernier caliber precision\n",
    "alpha_l = 0.05 # ruler precision\n",
    "alpha_T = np.sqrt((1/2*numSmpsPerSec)**2 + (1/2*numSmpsPerSec)**2) # estimated photogate precision\n",
    "\n",
    "\n",
    "a_ufloat = ufloat(a, alpha_a)\n",
    "b_ufloat = ufloat(b, alpha_b)\n",
    "k_dim_ufloat = sqrt( (a_ufloat**2 + b_ufloat**2)/12 )\n",
    "\n",
    "T_photogate, theta0h, h1, h2, l = np.genfromtxt(f\"data/2020-12-01-photogate-angle-data.csv\", delimiter=',', \n",
    "                            unpack=True, skip_header=1, encoding='utf_8_sig')\n",
    "\n",
    "T_stopwatch, theta0, h1, h2, l = np.genfromtxt(f\"data/2020-12-01-stopwatch-15cycles-angle-data.csv\", delimiter=',', \n",
    "                            unpack=True, skip_header=1, encoding='utf_8_sig')\n",
    "\n",
    "N = len(l)\n",
    "\n",
    "l_ufloat = unumpy.uarray(l, 0.05*np.ones(N))\n",
    "h1_ufloat = unumpy.uarray(h1, 0.1*np.ones(N))\n",
    "h2_ufloat = unumpy.uarray(h2, 0.1*np.ones(N))\n",
    "\n",
    "# this is error propagation when calculating the angle\n",
    "alpha_theta0 = unumpy.std_devs(unumpy.arccos( (l_ufloat-(h2_ufloat - h1_ufloat))/l_ufloat ) * (180/np.pi))\n",
    "\n",
    "#number of parameters\n",
    "n = 2"
   ]
  },
  {
   "cell_type": "code",
   "execution_count": 3,
   "metadata": {},
   "outputs": [
    {
     "data": {
      "image/png": "[encoded data removed]",
      "text/plain": [
       "<Figure size 432x288 with 1 Axes>"
      ]
     },
     "metadata": {
      "needs_background": "light"
     },
     "output_type": "display_data"
    },
    {
     "data": {
      "image/png": "[encoded data removed]",
      "text/plain": [
       "<Figure size 432x288 with 1 Axes>"
      ]
     },
     "metadata": {
      "needs_background": "light"
     },
     "output_type": "display_data"
    }
   ],
   "source": [
    "# --------------------------------------------------------------------------------------------------\n",
    "# Plotting\n",
    "# --------------------------------------------------------------------------------------------------\n",
    "\n",
    "plt.plot(theta0, T_photogate, \"k.\", label=\"photogate\")\n",
    "plt.errorbar(theta0, T_photogate, xerr=alpha_theta0, yerr=0.001, fmt='k.')\n",
    "plt.legend(loc='best')\n",
    "plt.ylabel(r'T (s)')\n",
    "plt.xlabel(r'$\\theta$(0) (deg)')\n",
    "plt.title(f\"Period vs Initial Angle Displacement plot (photogate)\")\n",
    "plt.show()\n",
    "\n",
    "plt.plot(theta0, T_stopwatch, \"k.\", label=\"stopwatch\")\n",
    "plt.errorbar(theta0, T_stopwatch, xerr=alpha_theta0, yerr=0.001, fmt='k.')\n",
    "plt.legend(loc='best')\n",
    "plt.ylabel(r'T (s)')\n",
    "plt.xlabel(r'$\\theta$(0) (deg)')\n",
    "plt.title(f\"Period vs Initial Angle Displacement plot (stopwarch)\");\n",
    "plt.show();"
   ]
  },
  {
   "cell_type": "markdown",
   "metadata": {},
   "source": [
    "## 2. Plot of $T$ vs $l$ (Photogate)\n",
    "\n",
    "The relationship between T and l we derived is as follows:\n",
    "\n",
    "$$T = 2\\pi \\sqrt{\\frac{k^2+l^2}{gl}}$$\n",
    "\n",
    "Estimate k and g directly from the `curve_fit`."
   ]
  },
  {
   "cell_type": "code",
   "execution_count": 4,
   "metadata": {},
   "outputs": [
    {
     "name": "stdout",
     "output_type": "stream",
     "text": [
      "alpha_T (original estimate) =  0.0007071067811865475\n"
     ]
    }
   ],
   "source": [
    "# --------------------------------------------------------------------------------------------------\n",
    "# Read Data\n",
    "# --------------------------------------------------------------------------------------------------\n",
    "\n",
    "#global string for labelling\n",
    "labely = \"T (s)\"\n",
    "labelx = \"l (cm)\"\n",
    "\n",
    "#global constants\n",
    "a = 100  # bar dimension \n",
    "b = 3.8  # bar dimension \n",
    "c = 0.96  # bar dimension \n",
    "g_true = 980.665 # true value of earth grav constant cm/s^2\n",
    "numSmpsPerSec = 1000.0\n",
    "\n",
    "#uncertainties \n",
    "alpha_a = 0.05 # tape measure precision\n",
    "alpha_b = 0.05  # ruler precision\n",
    "alpha_c = 0.005  # vernier caliber precision\n",
    "alpha_l = 0.05 # ruler precision\n",
    "alpha_T = np.sqrt((1/numSmpsPerSec/2)**2 + (1/numSmpsPerSec/2)**2) # photogate precision\n",
    "\n",
    "a_ufloat = ufloat(a, alpha_a)\n",
    "b_ufloat = ufloat(b, alpha_b)\n",
    "k_dim_ufloat = sqrt( (a_ufloat**2 + b_ufloat**2)/12 )\n",
    "\n",
    "T, l = np.genfromtxt(f\"data/2020-12-01-photogate-data.csv\", delimiter=',', \n",
    "                            unpack=True, skip_header=1, encoding='utf_8_sig')\n",
    "N = len(T)\n",
    "\n",
    "#number of parameters\n",
    "n = 2\n",
    "print(\"alpha_T (original estimate) = \",alpha_T)"
   ]
  },
  {
   "cell_type": "code",
   "execution_count": 5,
   "metadata": {},
   "outputs": [],
   "source": [
    "# --------------------------------------------------------------------------------------------------\n",
    "# Fitting\n",
    "# --------------------------------------------------------------------------------------------------\n",
    "\n",
    "#inputs\n",
    "x = l\n",
    "y = T\n",
    "\n",
    "alpha_x = alpha_l * np.ones(N)\n",
    "alpha_y = alpha_T * np.ones(N)\n",
    "\n",
    "def myFunc(x, k, g):\n",
    "    return 2 * np.pi * np.sqrt((k**2 + x**2) / (g * x))\n",
    "\n",
    "pOpt, pCov = curve_fit(myFunc, x, y,\n",
    "                       p0=[28.80, 980],\n",
    "                       sigma=alpha_y,\n",
    "                       absolute_sigma=True\n",
    "                       ) # abs sigma set to true if y error is known with the samee unit\n",
    "\n",
    "# Assign each element of pOpt to a named variable\n",
    "p0_opt = pOpt[0]\n",
    "p1_opt = pOpt[1]\n",
    "\n",
    "# Compute the standard errors for the parameters\n",
    "# by taking the square root of the diagonal elements of pCov\n",
    "alpha_vec = np.sqrt(np.diag(pCov))\n",
    "\n",
    "# Assign each element of alpha_vec to a named variable\n",
    "alpha_p0 = alpha_vec[0]\n",
    "alpha_p1 = alpha_vec[1]"
   ]
  },
  {
   "cell_type": "code",
   "execution_count": 6,
   "metadata": {},
   "outputs": [
    {
     "name": "stdout",
     "output_type": "stream",
     "text": [
      "k(computed from dimension) = (28.89 ± 0.01) cm\n",
      "g(true) = 980.7 cm/s^2\n",
      "k = (28.80 ± 0.03) cm\n",
      "g = (978.3 ± 1.0) cm/s^2\n",
      "Tmin(true) = 1.53\n",
      "Tmin(experimental) = 1.525+/-0.001\n"
     ]
    }
   ],
   "source": [
    "# ------------------------------------------------------------------------------------\n",
    "# printing result \n",
    "# ------------------------------------------------------------------------------------\n",
    "\n",
    "# Show optimized fit parameters and uncertainties\n",
    "print(f\"k(computed from dimension) = ({k_dim_ufloat.n:.2f} ± {k_dim_ufloat.s:.2f}) cm\")\n",
    "print(f\"g(true) = {g_true:.1f} cm/s^2\")\n",
    "print(f\"k = ({p0_opt:.2f} ± {alpha_p0:.2f}) cm\")\n",
    "print(f\"g = ({p1_opt:.1f} ± {alpha_p1:.1f}) cm/s^2\")\n",
    "\n",
    "k_exp_ufloat = ufloat(p0_opt, alpha_p0)\n",
    "g_ufloat = ufloat(p1_opt, alpha_p1)\n",
    "T_min_true = 2 * np.pi * np.sqrt( (2 * k_dim_ufloat.n)/ g_true)\n",
    "T_min_ufloat = 2 * np.pi * sqrt( (2 * k_exp_ufloat)/ g_ufloat)\n",
    "print(f\"Tmin(true) = {T_min_true:.2f}\")\n",
    "print(f\"Tmin(experimental) = {T_min_ufloat:.3f}\")"
   ]
  },
  {
   "cell_type": "code",
   "execution_count": 7,
   "metadata": {},
   "outputs": [
    {
     "data": {
      "image/png": "[encoded data removed]",
      "text/plain": [
       "<Figure size 432x288 with 1 Axes>"
      ]
     },
     "metadata": {
      "needs_background": "light"
     },
     "output_type": "display_data"
    },
    {
     "data": {
      "image/png": "[encoded data removed]",
      "text/plain": [
       "<Figure size 432x288 with 1 Axes>"
      ]
     },
     "metadata": {
      "needs_background": "light"
     },
     "output_type": "display_data"
    }
   ],
   "source": [
    "# ---------------------------------------------------------------\n",
    "# plotting\n",
    "# ---------------------------------------------------------------\n",
    "\n",
    "#Plot data\n",
    "plt.plot(x, y, 'k.')\n",
    "x_model = np.linspace(np.min(x),np.max(x),100)\n",
    "plt.plot(x_model, myFunc(x_model, p0_opt, p1_opt), 'r-')\n",
    "plt.errorbar(x, y, xerr=alpha_x, yerr=alpha_y, fmt='k.')\n",
    "plt.xlabel(f'{labelx}')\n",
    "plt.ylabel(f'{labely}')\n",
    "plt.title(r'$T$ vs $l$ plot and non-linear Fit (photogate enhanced)')\n",
    "plt.show()\n",
    "\n",
    "# Plot the residuals in a separate figure\n",
    "plt.plot(x, (y - myFunc(x, p0_opt, p1_opt))/alpha_y, 'k.')\n",
    "plt.plot([np.min(x), np.max(x)], [0,0], 'k:') #plt.plot([xmin,xmax],[ymin,ymax]) format\n",
    "plt.xlabel(f\"{labelx}\")\n",
    "plt.ylabel('Normalized Residuals')\n",
    "plt.title(f'Normalized Residuals plot (photogate enhanced)')\n",
    "plt.show()"
   ]
  },
  {
   "cell_type": "markdown",
   "metadata": {},
   "source": [
    "## 2. Chi-square Analysis (photogate)"
   ]
  },
  {
   "cell_type": "code",
   "execution_count": 8,
   "metadata": {},
   "outputs": [
    {
     "data": {
      "image/png": "[encoded data removed]",
      "text/plain": [
       "<Figure size 432x288 with 1 Axes>"
      ]
     },
     "metadata": {
      "needs_background": "light"
     },
     "output_type": "display_data"
    }
   ],
   "source": [
    "# --------------------------------------------------------------------------------------------------\n",
    "# Chi-square analysis\n",
    "# --------------------------------------------------------------------------------------------------\n",
    "# Compute and display chi-squared minimum\n",
    "dof = len(x) - n\n",
    "res = y - myFunc(x, p0_opt, p1_opt)\n",
    "normres = res/alpha_y\n",
    "chisq = np.sum(normres**2)\n",
    "reduced_chisq = chisq / dof\n",
    "cdf = chi2.cdf(chisq, dof) # Compute the probability of getting this fit result\n",
    "\n",
    "# plotting result\n",
    "plt.stem(x, normres, use_line_collection=True)\n",
    "plt.xlabel(f'{labelx} (cm)')\n",
    "plt.ylabel('Normalized residual')\n",
    "plt.title(f'Normalized Residuals plot')\n",
    "plt.xlim(np.min(x), np.max(x))\n",
    "plt.show()"
   ]
  },
  {
   "cell_type": "code",
   "execution_count": 9,
   "metadata": {},
   "outputs": [
    {
     "name": "stdout",
     "output_type": "stream",
     "text": [
      "degree of freedom dof = 5\n",
      "chisq_min = 5.18701\n",
      "Cumulative probability = 0.606513\n",
      "Significance: 0.393487\n",
      "chisq_min is within the range of [v-sqrt(2v), v+sqrt(2v)] = [1.8377223398316205, 8.16227766016838], so our model is within the 1*sigma range\n"
     ]
    }
   ],
   "source": [
    "# -------------------------------------------------------------------------\n",
    "# printing result \n",
    "# -------------------------------------------------------------------------\n",
    "print(f\"degree of freedom dof = {dof}\")\n",
    "print(f\"chisq_min = {chisq:.5f}\")\n",
    "print(f\"Cumulative probability = {cdf:.6f}\")\n",
    "print(f\"Significance: {1-cdf:.6f}\")\n",
    "\n",
    "if (chisq > dof - np.sqrt(2 * dof) and chisq < dof + np.sqrt(2 * dof)):\n",
    "    print(f\"chisq_min is within the range of [v-sqrt(2v), v+sqrt(2v)] = [{dof - np.sqrt(2 * dof)}, {dof + np.sqrt(2 * dof)}], so our model is within the 1*sigma range\")\n",
    "elif (chisq > dof - 2*np.sqrt(2 * dof) and chisq < dof + 2*np.sqrt(2 * dof)):\n",
    "    print(f\"chisq_min is within the range of [v-2*sqrt(2v), v+2*sqrt(2v)] = [{dof - 2*np.sqrt(2 * dof)}, {dof + 2*np.sqrt(2 * dof)}], so our model is within the 2*sigma range\")\n",
    "elif (chisq > dof - 3*np.sqrt(2 * dof) and chisq < dof + 3*np.sqrt(2 * dof)):\n",
    "    print(f\"chisq_min is within the range of [v-3*sqrt(2v), v+3*sqrt(2v)] = [{dof - 3*np.sqrt(2 * dof)}, {dof + 3*np.sqrt(2 * dof)}], so our model is within the 3*sigma range\")\n",
    "else:\n",
    "    print(f\"chisq_min is not within the range of [v-3*sqrt(2v), v+3*sqrt(2v)] = [{dof - np.sqrt(3 * dof)}, {dof + np.sqrt(3 * dof)}], so our model is not within the 3*sigma range\")\n",
    "    print(f\"null hypothesis is rejected; our model is not accepted.\")"
   ]
  },
  {
   "cell_type": "markdown",
   "metadata": {},
   "source": [
    "## 3. Estimating Error Using Scaling Factor"
   ]
  },
  {
   "cell_type": "code",
   "execution_count": 10,
   "metadata": {},
   "outputs": [
    {
     "name": "stdout",
     "output_type": "stream",
     "text": [
      "Use scaling factor to estimate the error.\n",
      "scaling factor = 1.0185288432998927\n"
     ]
    }
   ],
   "source": [
    "print(f\"Use scaling factor to estimate the error.\")\n",
    "S = np.sqrt(chisq/dof)\n",
    "print(f\"scaling factor = {S}\")"
   ]
  },
  {
   "cell_type": "markdown",
   "metadata": {},
   "source": [
    "## 4. Final Plot of $T$ vs $l$ (Photogate with estimated $\\alpha_T$)"
   ]
  },
  {
   "cell_type": "code",
   "execution_count": 11,
   "metadata": {},
   "outputs": [
    {
     "name": "stdout",
     "output_type": "stream",
     "text": [
      "Original estimated error of period (pure sampling error):  0.0007071067811865475\n",
      "Estimated true value of error of period:  0.0007202086519314446\n"
     ]
    }
   ],
   "source": [
    "# -------------------------------------------------------------------------------\n",
    "# inputs \n",
    "# -------------------------------------------------------------------------------\n",
    "x = l\n",
    "y = T\n",
    "\n",
    "alpha_x = alpha_l * np.ones(N)\n",
    "alpha_y = alpha_T * np.ones(N) * S\n",
    "print(\"Original estimated error of period (pure sampling error): \" ,np.sqrt((1/1000/2)**2 + (1/1000/2)**2))\n",
    "print(\"Estimated true value of error of period: \", alpha_y[0])"
   ]
  },
  {
   "cell_type": "code",
   "execution_count": 12,
   "metadata": {},
   "outputs": [],
   "source": [
    "pOpt, pCov = curve_fit(myFunc, x, y,\n",
    "                       p0=[28.89, 980],\n",
    "                       sigma=alpha_y,\n",
    "                       absolute_sigma=True\n",
    "                       ) # abs sigma set to true if y error is known with the samee unit\n",
    "\n",
    "# Assign each element of pOpt to a named variable\n",
    "p0_opt = pOpt[0]\n",
    "p1_opt = pOpt[1]\n",
    "\n",
    "# Compute the standard errors for the parameters\n",
    "# by taking the square root of the diagonal elements of pCov\n",
    "alpha_vec = np.sqrt(np.diag(pCov))\n",
    "\n",
    "# Assign each element of alpha_vec to a named variable\n",
    "alpha_p0 = alpha_vec[0]\n",
    "alpha_p1 = alpha_vec[1]"
   ]
  },
  {
   "cell_type": "code",
   "execution_count": 13,
   "metadata": {},
   "outputs": [
    {
     "name": "stdout",
     "output_type": "stream",
     "text": [
      "k(computed from dimension) = (28.89 ± 0.01) cm\n",
      "g(true) = 980.7 cm/s^2\n",
      "k = (28.80 ± 0.03) cm\n",
      "g = (978.3 ± 1.1) cm/s^2\n",
      "Tmin(true) = 1.53\n",
      "Tmin(experimental) = 1.525+/-0.001\n"
     ]
    }
   ],
   "source": [
    "# ------------------------------------------------------------------------------------\n",
    "# printing result \n",
    "# ------------------------------------------------------------------------------------\n",
    "\n",
    "# Show optimized fit parameters and uncertainties\n",
    "print(f\"k(computed from dimension) = ({k_dim_ufloat.n:.2f} ± {k_dim_ufloat.s:.2f}) cm\")\n",
    "print(f\"g(true) = {g_true:.1f} cm/s^2\")\n",
    "print(f\"k = ({p0_opt:.2f} ± {alpha_p0:.2f}) cm\")\n",
    "print(f\"g = ({p1_opt:.1f} ± {alpha_p1:.1f}) cm/s^2\")\n",
    "\n",
    "k_exp_ufloat = ufloat(p0_opt, alpha_p0)\n",
    "g_ufloat = ufloat(p1_opt, alpha_p1)\n",
    "T_min_true = 2 * np.pi * np.sqrt( (2 * k_dim_ufloat.n)/ g_true)\n",
    "T_min_ufloat = 2 * np.pi * sqrt( (2 * k_exp_ufloat)/ g_ufloat)\n",
    "print(f\"Tmin(true) = {T_min_true:.2f}\")\n",
    "print(f\"Tmin(experimental) = {T_min_ufloat:.3f}\")"
   ]
  },
  {
   "cell_type": "code",
   "execution_count": 14,
   "metadata": {},
   "outputs": [
    {
     "data": {
      "image/png": "[encoded data removed]",
      "text/plain": [
       "<Figure size 432x288 with 1 Axes>"
      ]
     },
     "metadata": {
      "needs_background": "light"
     },
     "output_type": "display_data"
    },
    {
     "data": {
      "image/png": "[encoded data removed]",
      "text/plain": [
       "<Figure size 432x288 with 1 Axes>"
      ]
     },
     "metadata": {
      "needs_background": "light"
     },
     "output_type": "display_data"
    }
   ],
   "source": [
    "# ---------------------------------------------------------------\n",
    "# plotting\n",
    "# ---------------------------------------------------------------\n",
    "\n",
    "#Plot data\n",
    "plt.plot(x, y, 'k.')\n",
    "x_model = np.linspace(np.min(x),np.max(x),100)\n",
    "plt.plot(x_model, myFunc(x_model, p0_opt, p1_opt), 'r-')\n",
    "plt.errorbar(x, y, xerr=alpha_x, yerr=alpha_y, fmt='k.')\n",
    "plt.xlabel(f'{labelx}')\n",
    "plt.ylabel(f'{labely}')\n",
    "plt.title(r'$T$ vs $l$ plot and non-linear Fit (photogate final result)')\n",
    "plt.show()\n",
    "\n",
    "# Plot the residuals in a separate figure\n",
    "plt.plot(x, (y - myFunc(x, p0_opt, p1_opt))/alpha_y, 'k.')\n",
    "plt.plot([np.min(x), np.max(x)], [0,0], 'k:') #plt.plot([xmin,xmax],[ymin,ymax]) format\n",
    "plt.xlabel(f\"{labelx}\")\n",
    "plt.ylabel('Normalized Residuals')\n",
    "plt.title(f'Normalized Residuals plot (photogate final result)')\n",
    "plt.show()"
   ]
  },
  {
   "cell_type": "code",
   "execution_count": 15,
   "metadata": {},
   "outputs": [
    {
     "data": {
      "image/png": "[encoded data removed]",
      "text/plain": [
       "<Figure size 432x288 with 1 Axes>"
      ]
     },
     "metadata": {
      "needs_background": "light"
     },
     "output_type": "display_data"
    }
   ],
   "source": [
    "# --------------------------------------------------------------------------------------------------\n",
    "# Chi-square analysis\n",
    "# --------------------------------------------------------------------------------------------------\n",
    "# Compute and display chi-squared minimum\n",
    "dof = len(x) - n\n",
    "res = y - myFunc(x, p0_opt, p1_opt)\n",
    "normres = res/alpha_y\n",
    "chisq = np.sum(normres**2)\n",
    "reduced_chisq = chisq / dof\n",
    "cdf = chi2.cdf(chisq, dof) # Compute the probability of getting this fit result\n",
    "\n",
    "# plotting result\n",
    "plt.stem(x, normres, use_line_collection=True)\n",
    "plt.xlabel(f'{labelx} (cm)')\n",
    "plt.ylabel('Normalized residual')\n",
    "plt.title(f'Normalized Residuals plot')\n",
    "plt.xlim(np.min(x), np.max(x))\n",
    "plt.show()"
   ]
  },
  {
   "cell_type": "code",
   "execution_count": 16,
   "metadata": {},
   "outputs": [
    {
     "name": "stdout",
     "output_type": "stream",
     "text": [
      "degree of freedom dof = 5\n",
      "chisq_min = 5.00000\n",
      "Cumulative probability = 0.584120\n",
      "Significance: 0.415880\n",
      "chisq_min is within the range of [v-sqrt(2v), v+sqrt(2v)] = [1.8377223398316205, 8.16227766016838], so our model is within the 1*sigma range\n"
     ]
    }
   ],
   "source": [
    "# -------------------------------------------------------------------------\n",
    "# printing result \n",
    "# -------------------------------------------------------------------------\n",
    "print(f\"degree of freedom dof = {dof}\")\n",
    "print(f\"chisq_min = {chisq:.5f}\")\n",
    "print(f\"Cumulative probability = {cdf:.6f}\")\n",
    "print(f\"Significance: {1-cdf:.6f}\")\n",
    "\n",
    "if (chisq > dof - np.sqrt(2 * dof) and chisq < dof + np.sqrt(2 * dof)):\n",
    "    print(f\"chisq_min is within the range of [v-sqrt(2v), v+sqrt(2v)] = [{dof - np.sqrt(2 * dof)}, {dof + np.sqrt(2 * dof)}], so our model is within the 1*sigma range\")\n",
    "elif (chisq > dof - 2*np.sqrt(2 * dof) and chisq < dof + 2*np.sqrt(2 * dof)):\n",
    "    print(f\"chisq_min is within the range of [v-2*sqrt(2v), v+2*sqrt(2v)] = [{dof - 2*np.sqrt(2 * dof)}, {dof + 2*np.sqrt(2 * dof)}], so our model is within the 2*sigma range\")\n",
    "elif (chisq > dof - 3*np.sqrt(2 * dof) and chisq < dof + 3*np.sqrt(2 * dof)):\n",
    "    print(f\"chisq_min is within the range of [v-3*sqrt(2v), v+3*sqrt(2v)] = [{dof - 3*np.sqrt(2 * dof)}, {dof + 3*np.sqrt(2 * dof)}], so our model is within the 3*sigma range\")\n",
    "else:\n",
    "    print(f\"chisq_min is not within the range of [v-3*sqrt(2v), v+3*sqrt(2v)] = [{dof - np.sqrt(3 * dof)}, {dof + np.sqrt(3 * dof)}], so our model is not within the 3*sigma range\")\n",
    "    print(f\"null hypothesis is rejected; our model is not accepted.\")"
   ]
  }
 ],
 "metadata": {
  "kernelspec": {
   "display_name": "Python 3",
   "language": "python",
   "name": "python3"
  },
  "language_info": {
   "codemirror_mode": {
    "name": "ipython",
    "version": 3
   },
   "file_extension": ".py",
   "mimetype": "text/x-python",
   "name": "python",
   "nbconvert_exporter": "python",
   "pygments_lexer": "ipython3",
   "version": "3.7.3"
  }
 },
 "nbformat": 4,
 "nbformat_minor": 2
}
