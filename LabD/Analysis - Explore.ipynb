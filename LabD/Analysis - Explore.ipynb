{
 "cells": [
  {
   "cell_type": "markdown",
   "metadata": {},
   "source": [
    "## Measuring g with a Physical Pendulum - Explore\n",
    "### Load Libraries\n",
    "Note that I used python uncertainties package to compute uncertainties instead of manual calculation inputting formula.\n",
    "You would need to do:\n",
    "\n",
    "**pip install uncertainties**"
   ]
  },
  {
   "cell_type": "code",
   "execution_count": 16,
   "metadata": {},
   "outputs": [],
   "source": [
    "# For scientific computing\n",
    "import numpy as np\n",
    "from scipy.stats import norm\n",
    "from scipy.stats import poisson\n",
    "from scipy.special import factorial\n",
    "from matplotlib.gridspec import GridSpec\n",
    "from scipy.optimize import curve_fit\n",
    "from scipy.stats import chi2\n",
    "import scipy.integrate as integrate\n",
    "\n",
    "# For plotting\n",
    "import matplotlib.pyplot as plt\n",
    "\n",
    "from uncertainties import ufloat\n",
    "from uncertainties.umath import *  #e.g. sqrt()\n",
    "from uncertainties import unumpy"
   ]
  },
  {
   "cell_type": "markdown",
   "metadata": {},
   "source": [
    "## 1. (1st model) Plot of $T^2$ vs $\\frac{k^2 + l^2}{l^2}$\n",
    "\n",
    "The relationship between T and l we derived is as follows:\n",
    "\n",
    "$$T = 2\\pi \\sqrt{\\frac{k^2+l^2}{gl}}$$\n",
    "\n",
    "The linearized equation will be following.\n",
    "\n",
    "$$T^2 = (\\frac{4\\pi^2}{g}) \\frac{k^2+l^2}{l}$$\n",
    "\n",
    "where $\\frac{4\\pi^2}{g}$ is slope.\n",
    "\n",
    "k is a radius of gyration. \n",
    "$$ k = \\sqrt{\\frac{a^2 + b^2}{12}} $$\n",
    "\n",
    "Then $g$ will be\n",
    "$$g = \\frac{4\\pi^2}{(slope)l} $$\n"
   ]
  },
  {
   "cell_type": "code",
   "execution_count": 17,
   "metadata": {},
   "outputs": [
    {
     "name": "stdout",
     "output_type": "stream",
     "text": [
      "k(computed from dimension) = (28.89 ± 0.01) cm\n",
      "slope= (0.0411 ± 0.0009) s^2/cm\n",
      "intercept = (-0.045 ± 0.057) s^2\n",
      "g = 959.5 ± 21.5 cm/s^2\n"
     ]
    },
    {
     "data": {
      "image/png": "[encoded data removed]",
      "text/plain": [
       "<Figure size 432x288 with 1 Axes>"
      ]
     },
     "metadata": {
      "needs_background": "light"
     },
     "output_type": "display_data"
    },
    {
     "data": {
      "image/png": "[encoded data removed]",
      "text/plain": [
       "<Figure size 432x288 with 1 Axes>"
      ]
     },
     "metadata": {
      "needs_background": "light"
     },
     "output_type": "display_data"
    }
   ],
   "source": [
    "# --------------------------------------------------------------------------------------------------\n",
    "# Read Data\n",
    "# --------------------------------------------------------------------------------------------------\n",
    "\n",
    "#global string for labelling\n",
    "labely = \"T^2 (s^2)\"\n",
    "labelx = \"(k^2+l^2)/l^2 (cm)\"\n",
    "\n",
    "#global constants\n",
    "a = 100  # bar dimension \n",
    "b = 3.8  # bar dimension \n",
    "c = 0.96  # bar dimension \n",
    "\n",
    "#uncertainties \n",
    "alpha_a = 0.05 # tape measure precision\n",
    "alpha_b = 0.05  # ruler precision\n",
    "alpha_c = 0.005  # vernier caliber precision\n",
    "alpha_l = 0.05 # ruler precision\n",
    "alpha_T = 0.01 # photogate precision\n",
    "\n",
    "a_ufloat = ufloat(a, alpha_a)\n",
    "b_ufloat = ufloat(b, alpha_b)\n",
    "k_ufloat = sqrt( (a_ufloat**2 + b_ufloat**2)/12 )\n",
    "\n",
    "T, l = np.genfromtxt(f\"data/2020-11-17-photogate-data.csv\", delimiter=',', \n",
    "                            unpack=True, skip_header=1, encoding='utf_8_sig')\n",
    "N = len(T)\n",
    "l_ufloat = unumpy.uarray(l, alpha_l*np.ones(N))\n",
    "k = k_ufloat.n\n",
    "\n",
    "#number of parameters\n",
    "n = 2\n",
    "\n",
    "print(f\"k(computed from dimension) = ({k_ufloat.n:.2f} ± {k_ufloat.s:.2f}) cm\")\n",
    "\n",
    "# --------------------------------------------------------------------------------------------------\n",
    "# Fitting\n",
    "# --------------------------------------------------------------------------------------------------\n",
    "\n",
    "#inputs\n",
    "x = ( k**2 + l**2 ) / l\n",
    "y = T**2\n",
    "\n",
    "alpha_x = unumpy.std_devs(((k_ufloat**2 + l_ufloat**2)/l_ufloat))\n",
    "alpha_y = alpha_T * np.ones(N)\n",
    "\n",
    "def myFunc(x, m, b):\n",
    "    return m * x + b\n",
    "\n",
    "pOpt, pCov = curve_fit(myFunc, x, y,\n",
    "                       p0=[1, 1],\n",
    "                       sigma=alpha_y,\n",
    "                       absolute_sigma=True) # abs sigma set to true if y error is known with the samee unit\n",
    "\n",
    "# Assign each element of pOpt to a named variable\n",
    "p0_opt = pOpt[0]\n",
    "p1_opt = pOpt[1]\n",
    "\n",
    "# Compute the standard errors for the parameters\n",
    "# by taking the square root of the diagonal elements of pCov\n",
    "alpha_vec = np.sqrt(np.diag(pCov))\n",
    "\n",
    "# Assign each element of alpha_vec to a named variable\n",
    "alpha_p0 = alpha_vec[0]\n",
    "alpha_p1 = alpha_vec[1]\n",
    "\n",
    "# ------------------------------------------------------------------------------------\n",
    "# printing result \n",
    "# ------------------------------------------------------------------------------------\n",
    "\n",
    "# Show optimized fit parameters and uncertainties\n",
    "slope = p0_opt\n",
    "intercept = p1_opt\n",
    "\n",
    "alpha_slope = alpha_p0\n",
    "alpha_intercept = alpha_p1\n",
    "\n",
    "slope_ufloat = ufloat(slope, alpha_slope)\n",
    "\n",
    "print(f\"slope= ({slope:.4f} ± {alpha_slope:.4f}) s^2/cm\")\n",
    "print(f\"intercept = ({intercept:.3f} ± {alpha_intercept:.3f}) s^2\")\n",
    "\n",
    "g_ufloat = 4 * np.pi**2 / slope_ufloat\n",
    "print(f\"g = {g_ufloat.n:.1f} ± {g_ufloat.s:.1f} cm/s^2\")\n",
    "\n",
    "# ---------------------------------------------------------------\n",
    "# plotting\n",
    "# ---------------------------------------------------------------\n",
    "\n",
    "#Plot data\n",
    "plt.plot(x, y, 'k.')\n",
    "plt.plot(x, myFunc(x, p0_opt, p1_opt), 'r-')\n",
    "plt.errorbar(x, y, xerr=alpha_x, yerr=alpha_y, fmt='k.')\n",
    "plt.xlabel(f'{labelx}')\n",
    "plt.ylabel(f'{labely}')\n",
    "plt.title(r'$T^2$ vs $\\frac{k^2+l^2}{l}$ plot and Linear Fit')\n",
    "plt.show()\n",
    "\n",
    "# Plot the residuals in a separate figure\n",
    "plt.plot(x, (y - myFunc(x, p0_opt, p1_opt))/alpha_y, 'k.')\n",
    "plt.plot([np.min(x), np.max(x)], [0,0], 'k:') #plt.plot([xmin,xmax],[ymin,ymax]) format\n",
    "plt.xlabel(f\"{labelx}\")\n",
    "plt.ylabel('Normalized Residuals')\n",
    "plt.title(f'Normalized Residuals plot')\n",
    "plt.show()"
   ]
  },
  {
   "cell_type": "markdown",
   "metadata": {},
   "source": [
    "## 2. (1st model) Chi-square Analysis for Linearization Method"
   ]
  },
  {
   "cell_type": "code",
   "execution_count": 18,
   "metadata": {},
   "outputs": [
    {
     "data": {
      "image/png": "[encoded data removed]",
      "text/plain": [
       "<Figure size 432x288 with 1 Axes>"
      ]
     },
     "metadata": {
      "needs_background": "light"
     },
     "output_type": "display_data"
    },
    {
     "name": "stdout",
     "output_type": "stream",
     "text": [
      "degree of freedom dof = 5\n",
      "chisq_min = 0.31501\n",
      "Cumulative probability = 0.002649\n",
      "Significance: 0.997351\n",
      "chisq_min is within the range of [v-2*sqrt(2v), v+2*sqrt(2v)] = [-1.324555320336759, 11.32455532033676], so our model is within the 2*sigma range\n"
     ]
    }
   ],
   "source": [
    "# --------------------------------------------------------------------------------------------------\n",
    "# Chi-square analysis\n",
    "# --------------------------------------------------------------------------------------------------\n",
    "# Compute and display chi-squared minimum\n",
    "dof = len(x) - n\n",
    "res = y - myFunc(x, p0_opt, p1_opt)\n",
    "normres = res/alpha_y\n",
    "chisq = np.sum(normres**2)\n",
    "reduced_chisq = chisq / dof\n",
    "cdf = chi2.cdf(chisq, dof) # Compute the probability of getting this fit result\n",
    "\n",
    "# plotting result\n",
    "plt.stem(x, normres, use_line_collection=True)\n",
    "plt.xlabel(f'{labelx} (cm)')\n",
    "plt.ylabel('Normalized residual')\n",
    "plt.title(f'Normalized Residuals plot')\n",
    "plt.xlim(np.min(x), np.max(x))\n",
    "plt.show()\n",
    "\n",
    "# printing result -------------------------------------------------------------------------\n",
    "print(f\"degree of freedom dof = {dof}\")\n",
    "print(f\"chisq_min = {chisq:.5f}\")\n",
    "print(f\"Cumulative probability = {cdf:.6f}\")\n",
    "print(f\"Significance: {1-cdf:.6f}\")\n",
    "\n",
    "if (chisq > dof - np.sqrt(2 * dof) and chisq < dof + np.sqrt(2 * dof)):\n",
    "    print(f\"chisq_min is within the range of [v-sqrt(2v), v+sqrt(2v)] = [{dof - np.sqrt(2 * dof)}, {dof + np.sqrt(2 * dof)}], so our model is within the 1*sigma range\")\n",
    "elif (chisq > dof - 2*np.sqrt(2 * dof) and chisq < dof + 2*np.sqrt(2 * dof)):\n",
    "    print(f\"chisq_min is within the range of [v-2*sqrt(2v), v+2*sqrt(2v)] = [{dof - 2*np.sqrt(2 * dof)}, {dof + 2*np.sqrt(2 * dof)}], so our model is within the 2*sigma range\")\n",
    "elif (chisq > dof - 3*np.sqrt(2 * dof) and chisq < dof + 3*np.sqrt(2 * dof)):\n",
    "    print(f\"chisq_min is within the range of [v-3*sqrt(2v), v+3*sqrt(2v)] = [{dof - 3*np.sqrt(2 * dof)}, {dof + 3*np.sqrt(2 * dof)}], so our model is within the 3*sigma range\")\n",
    "else:\n",
    "    print(f\"chisq_min is not within the range of [v-3*sqrt(2v), v+3*sqrt(2v)] = [{dof - np.sqrt(3 * dof)}, {dof + np.sqrt(3 * dof)}], so our model is not within the 3*sigma range\")\n",
    "    print(f\"null hypothesis is rejected; our model is not accepted.\")"
   ]
  },
  {
   "cell_type": "markdown",
   "metadata": {},
   "source": [
    "## 3. (2nd model) Plot of $T$ vs $l$\n",
    "\n",
    "The relationship between T and l we derived is as follows:\n",
    "\n",
    "$$T = 2\\pi \\sqrt{\\frac{k^2+l^2}{gl}}$$\n",
    "\n",
    "Estimate k and g directly from the `curve_fit`."
   ]
  },
  {
   "cell_type": "code",
   "execution_count": 21,
   "metadata": {},
   "outputs": [
    {
     "name": "stdout",
     "output_type": "stream",
     "text": [
      "k(computed from dimension) = (28.89 ± 0.01) cm\n",
      "g(true) = 980.7 cm/s^2\n",
      "k = (28.98 ± 0.40) s^2/cm\n",
      "g = (980.3 ± 14.8) s^2\n",
      "Tmin(true) = 1.53\n",
      "Tmin(experimental) = 1.53+/-0.02\n"
     ]
    },
    {
     "data": {
      "image/png": "[encoded data removed]",
      "text/plain": [
       "<Figure size 432x288 with 1 Axes>"
      ]
     },
     "metadata": {
      "needs_background": "light"
     },
     "output_type": "display_data"
    },
    {
     "data": {
      "image/png": "[encoded data removed]",
      "text/plain": [
       "<Figure size 432x288 with 1 Axes>"
      ]
     },
     "metadata": {
      "needs_background": "light"
     },
     "output_type": "display_data"
    }
   ],
   "source": [
    "# --------------------------------------------------------------------------------------------------\n",
    "# Read Data\n",
    "# --------------------------------------------------------------------------------------------------\n",
    "\n",
    "#global string for labelling\n",
    "labely = \"T (s)\"\n",
    "labelx = \"l (cm)\"\n",
    "\n",
    "#global constants\n",
    "a = 100  # bar dimension \n",
    "b = 3.8  # bar dimension \n",
    "c = 0.96  # bar dimension \n",
    "g_true = 980.665 # true value of earth grav constant cm/s^2\n",
    "\n",
    "#uncertainties \n",
    "alpha_a = 0.05 # tape measure precision\n",
    "alpha_b = 0.05  # ruler precision\n",
    "alpha_c = 0.005  # vernier caliber precision\n",
    "alpha_l = 0.05 # ruler precision\n",
    "alpha_T = 0.01 # photogate precision\n",
    "\n",
    "a_ufloat = ufloat(a, alpha_a)\n",
    "b_ufloat = ufloat(b, alpha_b)\n",
    "k_dim_ufloat = sqrt( (a_ufloat**2 + b_ufloat**2)/12 )\n",
    "\n",
    "T, l = np.genfromtxt(f\"data/2020-11-17-photogate-data.csv\", delimiter=',', \n",
    "                            unpack=True, skip_header=1, encoding='utf_8_sig')\n",
    "N = len(T)\n",
    "\n",
    "#number of parameters\n",
    "n = 2\n",
    "\n",
    "# --------------------------------------------------------------------------------------------------\n",
    "# Fitting\n",
    "# --------------------------------------------------------------------------------------------------\n",
    "\n",
    "#inputs\n",
    "x = l\n",
    "y = T\n",
    "\n",
    "alpha_x = alpha_l * np.ones(N)\n",
    "alpha_y = alpha_T * np.ones(N)\n",
    "\n",
    "def myFunc(x, k, g):\n",
    "    return 2 * np.pi * np.sqrt((k**2 + x**2) / (g * x))\n",
    "\n",
    "pOpt, pCov = curve_fit(myFunc, x, y,\n",
    "                       p0=[28.89, 980],\n",
    "                       sigma=alpha_y,\n",
    "                       absolute_sigma=True\n",
    "                       ) # abs sigma set to true if y error is known with the samee unit\n",
    "\n",
    "# Assign each element of pOpt to a named variable\n",
    "p0_opt = pOpt[0]\n",
    "p1_opt = pOpt[1]\n",
    "\n",
    "# Compute the standard errors for the parameters\n",
    "# by taking the square root of the diagonal elements of pCov\n",
    "alpha_vec = np.sqrt(np.diag(pCov))\n",
    "\n",
    "# Assign each element of alpha_vec to a named variable\n",
    "alpha_p0 = alpha_vec[0]\n",
    "alpha_p1 = alpha_vec[1]\n",
    "\n",
    "# ------------------------------------------------------------------------------------\n",
    "# printing result \n",
    "# ------------------------------------------------------------------------------------\n",
    "\n",
    "# Show optimized fit parameters and uncertainties\n",
    "print(f\"k(computed from dimension) = ({k_dim_ufloat.n:.2f} ± {k_dim_ufloat.s:.2f}) cm\")\n",
    "print(f\"g(true) = {g_true:.1f} cm/s^2\")\n",
    "print(f\"k = ({p0_opt:.2f} ± {alpha_p0:.2f}) s^2/cm\")\n",
    "print(f\"g = ({p1_opt:.1f} ± {alpha_p1:.1f}) s^2\")\n",
    "\n",
    "k_exp_ufloat = ufloat(p0_opt, alpha_p0)\n",
    "g_ufloat = ufloat(p1_opt, alpha_p1)\n",
    "T_min_true = 2 * np.pi * np.sqrt( (2 * k_dim_ufloat.n)/ g_true)\n",
    "T_min_ufloat = 2 * np.pi * sqrt( (2 * k_exp_ufloat)/ g_ufloat)\n",
    "print(f\"Tmin(true) = {T_min_true:.2f}\")\n",
    "print(f\"Tmin(experimental) = {T_min_ufloat:.2f}\")\n",
    "\n",
    "# ---------------------------------------------------------------\n",
    "# plotting\n",
    "# ---------------------------------------------------------------\n",
    "\n",
    "#Plot data\n",
    "plt.plot(x, y, 'k.')\n",
    "x_model = np.linspace(np.min(x), np.max(x), 100)\n",
    "plt.plot(x_model, myFunc(x_model, p0_opt, p1_opt), 'r-')\n",
    "plt.errorbar(x, y, xerr=alpha_x, yerr=alpha_y, fmt='k.')\n",
    "plt.xlabel(f'{labelx}')\n",
    "plt.ylabel(f'{labely}')\n",
    "plt.title(r'$T$ vs $l$ plot and non-linear Fit')\n",
    "plt.show()\n",
    "\n",
    "# Plot the residuals in a separate figure\n",
    "plt.plot(x, (y - myFunc(x, p0_opt, p1_opt))/alpha_y, 'k.')\n",
    "plt.plot([np.min(x), np.max(x)], [0,0], 'k:') #plt.plot([xmin,xmax],[ymin,ymax]) format\n",
    "plt.xlabel(f\"{labelx}\")\n",
    "plt.ylabel('Normalized Residuals')\n",
    "plt.title(f'Normalized Residuals plot')\n",
    "plt.show()"
   ]
  },
  {
   "cell_type": "markdown",
   "metadata": {},
   "source": [
    "## 4. (2nd model) Chi-square Analysis for non-linear fitting method"
   ]
  },
  {
   "cell_type": "code",
   "execution_count": 22,
   "metadata": {},
   "outputs": [
    {
     "data": {
      "image/png": "[encoded data removed]",
      "text/plain": [
       "<Figure size 432x288 with 1 Axes>"
      ]
     },
     "metadata": {
      "needs_background": "light"
     },
     "output_type": "display_data"
    },
    {
     "name": "stdout",
     "output_type": "stream",
     "text": [
      "degree of freedom dof = 5\n",
      "chisq_min = 0.03615\n",
      "Cumulative probability = 0.000013\n",
      "Significance: 0.999987\n",
      "chisq_min is within the range of [v-2*sqrt(2v), v+2*sqrt(2v)] = [-1.324555320336759, 11.32455532033676], so our model is within the 2*sigma range\n"
     ]
    }
   ],
   "source": [
    "# --------------------------------------------------------------------------------------------------\n",
    "# Chi-square analysis\n",
    "# --------------------------------------------------------------------------------------------------\n",
    "# Compute and display chi-squared minimum\n",
    "dof = len(x) - n\n",
    "res = y - myFunc(x, p0_opt, p1_opt)\n",
    "normres = res/alpha_y\n",
    "chisq = np.sum(normres**2)\n",
    "reduced_chisq = chisq / dof\n",
    "cdf = chi2.cdf(chisq, dof) # Compute the probability of getting this fit result\n",
    "\n",
    "# plotting result\n",
    "plt.stem(x, normres, use_line_collection=True)\n",
    "plt.xlabel(f'{labelx} (cm)')\n",
    "plt.ylabel('Normalized residual')\n",
    "plt.title(f'Normalized Residuals plot')\n",
    "plt.xlim(np.min(x), np.max(x))\n",
    "plt.show()\n",
    "\n",
    "# printing result -------------------------------------------------------------------------\n",
    "print(f\"degree of freedom dof = {dof}\")\n",
    "print(f\"chisq_min = {chisq:.5f}\")\n",
    "print(f\"Cumulative probability = {cdf:.6f}\")\n",
    "print(f\"Significance: {1-cdf:.6f}\")\n",
    "\n",
    "if (chisq > dof - np.sqrt(2 * dof) and chisq < dof + np.sqrt(2 * dof)):\n",
    "    print(f\"chisq_min is within the range of [v-sqrt(2v), v+sqrt(2v)] = [{dof - np.sqrt(2 * dof)}, {dof + np.sqrt(2 * dof)}], so our model is within the 1*sigma range\")\n",
    "elif (chisq > dof - 2*np.sqrt(2 * dof) and chisq < dof + 2*np.sqrt(2 * dof)):\n",
    "    print(f\"chisq_min is within the range of [v-2*sqrt(2v), v+2*sqrt(2v)] = [{dof - 2*np.sqrt(2 * dof)}, {dof + 2*np.sqrt(2 * dof)}], so our model is within the 2*sigma range\")\n",
    "elif (chisq > dof - 3*np.sqrt(2 * dof) and chisq < dof + 3*np.sqrt(2 * dof)):\n",
    "    print(f\"chisq_min is within the range of [v-3*sqrt(2v), v+3*sqrt(2v)] = [{dof - 3*np.sqrt(2 * dof)}, {dof + 3*np.sqrt(2 * dof)}], so our model is within the 3*sigma range\")\n",
    "else:\n",
    "    print(f\"chisq_min is not within the range of [v-3*sqrt(2v), v+3*sqrt(2v)] = [{dof - np.sqrt(3 * dof)}, {dof + np.sqrt(3 * dof)}], so our model is not within the 3*sigma range\")\n",
    "    print(f\"null hypothesis is rejected; our model is not accepted.\")"
   ]
  },
  {
   "cell_type": "code",
   "execution_count": null,
   "metadata": {},
   "outputs": [],
   "source": []
  }
 ],
 "metadata": {
  "kernelspec": {
   "display_name": "Python 3",
   "language": "python",
   "name": "python3"
  },
  "language_info": {
   "codemirror_mode": {
    "name": "ipython",
    "version": 3
   },
   "file_extension": ".py",
   "mimetype": "text/x-python",
   "name": "python",
   "nbconvert_exporter": "python",
   "pygments_lexer": "ipython3",
   "version": "3.7.3"
  }
 },
 "nbformat": 4,
 "nbformat_minor": 2
}
