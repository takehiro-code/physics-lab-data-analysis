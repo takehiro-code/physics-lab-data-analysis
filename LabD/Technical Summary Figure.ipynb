{
 "cells": [
  {
   "cell_type": "markdown",
   "metadata": {},
   "source": [
    "## For Technical Summary Figure\n",
    "### Load Libraries\n",
    "Note that I used python uncertainties package to compute uncertainties instead of manual calculation inputting formula.\n",
    "You would need to do:\n",
    "\n",
    "**pip install uncertainties**"
   ]
  },
  {
   "cell_type": "code",
   "execution_count": 1,
   "metadata": {},
   "outputs": [],
   "source": [
    "# For scientific computing\n",
    "import numpy as np\n",
    "from scipy.stats import norm\n",
    "from scipy.stats import poisson\n",
    "from scipy.special import factorial\n",
    "from matplotlib.gridspec import GridSpec\n",
    "from scipy.optimize import curve_fit\n",
    "from scipy.stats import chi2\n",
    "import scipy.integrate as integrate\n",
    "\n",
    "# For plotting\n",
    "import matplotlib.pyplot as plt\n",
    "\n",
    "from uncertainties import ufloat\n",
    "from uncertainties.umath import *  #e.g. sqrt()\n",
    "from uncertainties import unumpy"
   ]
  },
  {
   "cell_type": "code",
   "execution_count": 2,
   "metadata": {},
   "outputs": [],
   "source": [
    "# --------------------------------------------------------------------------------------------------\n",
    "# Read Data\n",
    "# --------------------------------------------------------------------------------------------------\n",
    "\n",
    "#global string for labelling\n",
    "labely = \"T (s)\"\n",
    "labelx = \"l (cm)\"\n",
    "\n",
    "#global constants\n",
    "a = 100  # bar dimension \n",
    "b = 3.8  # bar dimension \n",
    "c = 0.96  # bar dimension \n",
    "g_true = 980.665 # true value of earth grav constant cm/s^2\n",
    "numSmpsPerSec = 1000.0\n",
    "\n",
    "#uncertainties \n",
    "alpha_a = 0.05 # tape measure precision\n",
    "alpha_b = 0.05  # ruler precision\n",
    "alpha_c = 0.005  # vernier caliber precision\n",
    "alpha_l = 0.05 # ruler precision\n",
    "alpha_T = np.sqrt((1/numSmpsPerSec/2)**2 + (1/numSmpsPerSec/2)**2) # photogate precision\n",
    "\n",
    "a_ufloat = ufloat(a, alpha_a)\n",
    "b_ufloat = ufloat(b, alpha_b)\n",
    "k_dim_ufloat = sqrt( (a_ufloat**2 + b_ufloat**2)/12 )\n",
    "\n",
    "T, l = np.genfromtxt(f\"data/2020-12-01-photogate-data.csv\", delimiter=',', \n",
    "                            unpack=True, skip_header=1, encoding='utf_8_sig')\n",
    "N = len(T)\n",
    "\n",
    "#number of parameters\n",
    "n = 2"
   ]
  },
  {
   "cell_type": "code",
   "execution_count": 6,
   "metadata": {},
   "outputs": [],
   "source": [
    "# --------------------------------------------------------------------------------------------------\n",
    "# Fitting\n",
    "# --------------------------------------------------------------------------------------------------\n",
    "\n",
    "#inputs\n",
    "x = l\n",
    "y = T\n",
    "\n",
    "alpha_x = alpha_l * np.ones(N)\n",
    "alpha_y = alpha_T * np.ones(N) * 1.0185288432998927\n",
    "\n",
    "def myFunc(x, k, g):\n",
    "    return 2 * np.pi * np.sqrt((k**2 + x**2) / (g * x))\n",
    "\n",
    "pOpt, pCov = curve_fit(myFunc, x, y,\n",
    "                       p0=[28.80, 980],\n",
    "                       sigma=alpha_y,\n",
    "                       absolute_sigma=True\n",
    "                       ) # abs sigma set to true if y error is known with the samee unit\n",
    "\n",
    "# Assign each element of pOpt to a named variable\n",
    "p0_opt = pOpt[0]\n",
    "p1_opt = pOpt[1]\n",
    "\n",
    "# Compute the standard errors for the parameters\n",
    "# by taking the square root of the diagonal elements of pCov\n",
    "alpha_vec = np.sqrt(np.diag(pCov))\n",
    "\n",
    "# Assign each element of alpha_vec to a named variable\n",
    "alpha_p0 = alpha_vec[0]\n",
    "alpha_p1 = alpha_vec[1]"
   ]
  },
  {
   "cell_type": "code",
   "execution_count": 7,
   "metadata": {},
   "outputs": [
    {
     "name": "stdout",
     "output_type": "stream",
     "text": [
      "k(computed from dimension) = (28.89 ± 0.01) cm\n",
      "g(true) = 980.7 cm/s^2\n",
      "k = (28.80 ± 0.03) cm\n",
      "g = (978.3 ± 1.1) cm/s^2\n",
      "Tmin(true) = 1.53\n",
      "Tmin(experimental) = 1.525+/-0.001\n"
     ]
    }
   ],
   "source": [
    "# ------------------------------------------------------------------------------------\n",
    "# printing result \n",
    "# ------------------------------------------------------------------------------------\n",
    "\n",
    "# Show optimized fit parameters and uncertainties\n",
    "print(f\"k(computed from dimension) = ({k_dim_ufloat.n:.2f} ± {k_dim_ufloat.s:.2f}) cm\")\n",
    "print(f\"g(true) = {g_true:.1f} cm/s^2\")\n",
    "print(f\"k = ({p0_opt:.2f} ± {alpha_p0:.2f}) cm\")\n",
    "print(f\"g = ({p1_opt:.1f} ± {alpha_p1:.1f}) cm/s^2\")\n",
    "\n",
    "k_exp_ufloat = ufloat(p0_opt, alpha_p0)\n",
    "g_ufloat = ufloat(p1_opt, alpha_p1)\n",
    "T_min_true = 2 * np.pi * np.sqrt( (2 * k_dim_ufloat.n)/ g_true)\n",
    "T_min_ufloat = 2 * np.pi * sqrt( (2 * k_exp_ufloat)/ g_ufloat)\n",
    "print(f\"Tmin(true) = {T_min_true:.2f}\")\n",
    "print(f\"Tmin(experimental) = {T_min_ufloat:.3f}\")"
   ]
  },
  {
   "cell_type": "markdown",
   "metadata": {},
   "source": [
    "#### Now, you get to generate the figure for technical summary as following."
   ]
  },
  {
   "cell_type": "code",
   "execution_count": 11,
   "metadata": {},
   "outputs": [
    {
     "data": {
      "image/png": "[encoded data removed]",
      "text/plain": [
       "<Figure size 432x288 with 2 Axes>"
      ]
     },
     "metadata": {
      "needs_background": "light"
     },
     "output_type": "display_data"
    }
   ],
   "source": [
    "# plotting\n",
    "# Make a grid with 2 rows, 1 colum, a 4:2 height ratio, and no \n",
    "# height space between the rows\n",
    "gs = GridSpec(2, 1, height_ratios=[4, 2], hspace=0)\n",
    "\n",
    "# Create figure\n",
    "fig = plt.figure()\n",
    "x_range = [np.min(x) - (np.max(x) * 1.05 - np.max(x)) , np.max(x) * 1.05]\n",
    "\n",
    "# Compute the measurement residuals\n",
    "k = p0_opt\n",
    "g = p1_opt\n",
    "residuals = y - myFunc(x, k, g)\n",
    "\n",
    "# Compute the model curve\n",
    "x_model = np.linspace(x_range[0], x_range[1])\n",
    "y_model = myFunc(x_model, k ,g)\n",
    "\n",
    "# Make the main plot\n",
    "ax_main = fig.add_subplot(gs[0])\n",
    "\n",
    "# Plot data as black dots\n",
    "plt.errorbar(x, y, xerr=alpha_x, yerr=alpha_y, fmt='k.')\n",
    "\n",
    "# Plot fit as a red line\n",
    "plt.plot(x_model, y_model, 'r-')\n",
    "\n",
    "# Format top panel: set axis ranges and add y-axis label\n",
    "# No x-axis label here to avoid overlap with residual plot\n",
    "plt.xlim(x_range[0], x_range[1])\n",
    "plt.ylim(np.min(y)-(np.max(y) * 1.01 - np.max(y)), np.max(y) * 1.01)\n",
    "plt.ylabel('T (s)')\n",
    "#plt.title(r'$\\frac{(I_+^2 + I_-^2)}{2}$ vs m plot')\n",
    "\n",
    "# Hide x-tick labels to avoid overlap with residual plot\n",
    "# plt.yticks(np.arange(floor(10 * (np.min(y)-(np.max(y) * 1.01 - np.max(y))))/10, ceil((np.max(y)) * 10)/10, 0.05))\n",
    "\n",
    "ax_main.text(0.075, 0.75, '(a)',\n",
    "        verticalalignment='bottom', horizontalalignment='right',\n",
    "        transform=ax_main.transAxes,\n",
    "        fontsize=15)\n",
    "\n",
    "# Make the residual plot with a dotted zero line\n",
    "# Need to adjust ylim,  yticks, ylabel for readability\n",
    "ax_res = fig.add_subplot(gs[1])\n",
    "ax_res.text(0.075, 0.7, '(b)',\n",
    "        verticalalignment='bottom', horizontalalignment='right',\n",
    "        transform=ax_res.transAxes,\n",
    "        fontsize=15)\n",
    "\n",
    "# Plot residuals as black dots\n",
    "plt.plot(x, residuals/alpha_y,'k.')\n",
    "\n",
    "# Show zero line as a black dotted line\n",
    "plt.plot(x_range, [0,0], 'k:') #plt.plot([xmin,xmax],[ymin,ymax]) format\n",
    "\n",
    "# Format bottom panel: set axis ranges, explicitly set\n",
    "# y-tick values to avoid overlap with top panel, and\n",
    "# add labels to x-axis and y-axis\n",
    "plt.xlim(x_range[0], x_range[1])\n",
    "plt.ylim(-2, 2)\n",
    "plt.yticks([-1, 0, 1])\n",
    "plt.xlabel(f\"{labelx}\")\n",
    "plt.ylabel(\"Normalized\\nresidual\")\n",
    "plt.savefig(\"plot.pdf\")"
   ]
  }
 ],
 "metadata": {
  "kernelspec": {
   "display_name": "Python 3",
   "language": "python",
   "name": "python3"
  },
  "language_info": {
   "codemirror_mode": {
    "name": "ipython",
    "version": 3
   },
   "file_extension": ".py",
   "mimetype": "text/x-python",
   "name": "python",
   "nbconvert_exporter": "python",
   "pygments_lexer": "ipython3",
   "version": "3.7.3"
  }
 },
 "nbformat": 4,
 "nbformat_minor": 2
}
